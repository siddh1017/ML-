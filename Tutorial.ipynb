{
 "cells": [
  {
   "cell_type": "markdown",
   "id": "3c7311e7",
   "metadata": {},
   "source": [
    "**NAME :** ***SHAH SIDDH TEJASKUMAR*** \n"
   ]
  },
  {
   "cell_type": "markdown",
   "id": "83693995",
   "metadata": {},
   "source": [
    "**Reg.NO :** ***20BCE1937***"
   ]
  },
  {
   "cell_type": "markdown",
   "id": "b054ae12",
   "metadata": {},
   "source": [
    "# Welcome to NUMPY "
   ]
  },
  {
   "cell_type": "code",
   "execution_count": 1,
   "id": "8e34e772",
   "metadata": {},
   "outputs": [
    {
     "name": "stdout",
     "output_type": "stream",
     "text": [
      "int32\n",
      "[ 3  4  2 45]\n"
     ]
    }
   ],
   "source": [
    "import numpy as np    # importing the numpy module\n",
    "myarr = np.array([3, 4, 2, 45])\n",
    "print (myarr.dtype)\n",
    "print (myarr)"
   ]
  },
  {
   "cell_type": "markdown",
   "id": "0fa94acd",
   "metadata": {},
   "source": [
    "*we can mention the size of the np array and save the memory and that's why ***NUMPY***.*\n"
   ]
  },
  {
   "cell_type": "code",
   "execution_count": 2,
   "id": "dc0217d4",
   "metadata": {},
   "outputs": [
    {
     "name": "stdout",
     "output_type": "stream",
     "text": [
      "[ 3  4  2 45]\n",
      "int8\n"
     ]
    }
   ],
   "source": [
    "arr1 = np.array([3, 4, 2, 45], np.int8)  \n",
    "print (arr1)\n",
    "print (arr1.dtype)"
   ]
  },
  {
   "cell_type": "code",
   "execution_count": 3,
   "id": "41d7bec0",
   "metadata": {},
   "outputs": [
    {
     "name": "stdout",
     "output_type": "stream",
     "text": [
      "int16\n"
     ]
    }
   ],
   "source": [
    "myarr.dtype = np.int16  # changing the dtype varaible of the my arr\n",
    "print (myarr.dtype)"
   ]
  },
  {
   "cell_type": "code",
   "execution_count": 4,
   "id": "4524e706",
   "metadata": {},
   "outputs": [],
   "source": [
    "i = 42"
   ]
  },
  {
   "cell_type": "code",
   "execution_count": 5,
   "id": "afb380ad",
   "metadata": {},
   "outputs": [
    {
     "name": "stdout",
     "output_type": "stream",
     "text": [
      "42\n"
     ]
    }
   ],
   "source": [
    "print (i)"
   ]
  },
  {
   "cell_type": "code",
   "execution_count": 6,
   "id": "3b497d3b",
   "metadata": {},
   "outputs": [
    {
     "data": {
      "text/plain": [
       "(8,)"
      ]
     },
     "execution_count": 6,
     "metadata": {},
     "output_type": "execute_result"
    }
   ],
   "source": [
    "myarr.shape # gives one answer eg. (4,)"
   ]
  },
  {
   "cell_type": "code",
   "execution_count": 7,
   "id": "d1af6d59",
   "metadata": {},
   "outputs": [
    {
     "name": "stdout",
     "output_type": "stream",
     "text": [
      "3\n"
     ]
    }
   ],
   "source": [
    "arr2 = [1, 2 ,4]    # we can also have normal arrays (list, tuples ...)\n",
    "print (len(arr2))"
   ]
  },
  {
   "cell_type": "markdown",
   "id": "46d5a637",
   "metadata": {},
   "source": [
    "***we can create the numpy array using any python store (list, tuples, sets ..)***"
   ]
  },
  {
   "cell_type": "code",
   "execution_count": 8,
   "id": "7b363bf7",
   "metadata": {},
   "outputs": [
    {
     "name": "stdout",
     "output_type": "stream",
     "text": [
      "[[1 2 3]\n",
      " [4 5 6]\n",
      " [7 8 9]]\n"
     ]
    }
   ],
   "source": [
    "tDarr = np.array(((1,2,3), (4,5,6), (7,8,9)))\n",
    "print (tDarr)"
   ]
  },
  {
   "cell_type": "code",
   "execution_count": 9,
   "id": "f99b97d7",
   "metadata": {},
   "outputs": [
    {
     "data": {
      "text/plain": [
       "numpy.ndarray"
      ]
     },
     "execution_count": 9,
     "metadata": {},
     "output_type": "execute_result"
    }
   ],
   "source": [
    "type(tDarr)  "
   ]
  },
  {
   "cell_type": "code",
   "execution_count": 10,
   "id": "7ecdc1c8",
   "metadata": {},
   "outputs": [
    {
     "data": {
      "text/plain": [
       "(3, 3)"
      ]
     },
     "execution_count": 10,
     "metadata": {},
     "output_type": "execute_result"
    }
   ],
   "source": [
    "tDarr.shape   # returns the dimensions of the array"
   ]
  },
  {
   "cell_type": "code",
   "execution_count": 11,
   "id": "44daab64",
   "metadata": {},
   "outputs": [
    {
     "data": {
      "text/plain": [
       "numpy.ndarray"
      ]
     },
     "execution_count": 11,
     "metadata": {},
     "output_type": "execute_result"
    }
   ],
   "source": [
    "type (arr1)"
   ]
  },
  {
   "cell_type": "code",
   "execution_count": 12,
   "id": "315546f6",
   "metadata": {},
   "outputs": [
    {
     "data": {
      "text/plain": [
       "list"
      ]
     },
     "execution_count": 12,
     "metadata": {},
     "output_type": "execute_result"
    }
   ],
   "source": [
    "type (arr2)"
   ]
  },
  {
   "cell_type": "markdown",
   "id": "f3325f66",
   "metadata": {},
   "source": [
    "**------>** ***numpy ways to create array***"
   ]
  },
  {
   "cell_type": "code",
   "execution_count": 13,
   "id": "a502b5f4",
   "metadata": {},
   "outputs": [],
   "source": [
    "zarr = np.zeros((3, 4))   # creates the matrix of 3X4 .. with value 0"
   ]
  },
  {
   "cell_type": "code",
   "execution_count": 14,
   "id": "5c7d40ca",
   "metadata": {},
   "outputs": [
    {
     "name": "stdout",
     "output_type": "stream",
     "text": [
      "float64\n",
      "(3, 4)\n"
     ]
    }
   ],
   "source": [
    "zarr\n",
    "print (zarr.dtype)\n",
    "print (zarr.shape)"
   ]
  },
  {
   "cell_type": "markdown",
   "id": "3ba6a589",
   "metadata": {},
   "source": [
    "*arange same as range in python*"
   ]
  },
  {
   "cell_type": "code",
   "execution_count": 15,
   "id": "fa29df15",
   "metadata": {},
   "outputs": [],
   "source": [
    "arr = np.arange (10)  # prints the value from 0 ->> (n-1) (0-9)"
   ]
  },
  {
   "cell_type": "code",
   "execution_count": 16,
   "id": "766279d5",
   "metadata": {},
   "outputs": [
    {
     "data": {
      "text/plain": [
       "array([0, 1, 2, 3, 4, 5, 6, 7, 8, 9])"
      ]
     },
     "execution_count": 16,
     "metadata": {},
     "output_type": "execute_result"
    }
   ],
   "source": [
    "arr"
   ]
  },
  {
   "cell_type": "code",
   "execution_count": 17,
   "id": "789916fa",
   "metadata": {},
   "outputs": [
    {
     "name": "stdout",
     "output_type": "stream",
     "text": [
      "[1 2 3 4 5 6 7 8]\n"
     ]
    }
   ],
   "source": [
    "ran = np.arange (1, 9)  # array of (1 -> 9)\n",
    "print (ran)"
   ]
  },
  {
   "cell_type": "code",
   "execution_count": 18,
   "id": "4cfe67af",
   "metadata": {},
   "outputs": [
    {
     "data": {
      "text/plain": [
       "(8,)"
      ]
     },
     "execution_count": 18,
     "metadata": {},
     "output_type": "execute_result"
    }
   ],
   "source": [
    "ran.shape\n"
   ]
  },
  {
   "cell_type": "code",
   "execution_count": 19,
   "id": "ee4e7f8c",
   "metadata": {},
   "outputs": [
    {
     "data": {
      "text/plain": [
       "array([[1, 2],\n",
       "       [3, 4],\n",
       "       [5, 6],\n",
       "       [7, 8]])"
      ]
     },
     "execution_count": 19,
     "metadata": {},
     "output_type": "execute_result"
    }
   ],
   "source": [
    "ran = ran.reshape(4, 2)   # reshaping the array (.reshape(valueX, valueY))\n",
    "ran"
   ]
  },
  {
   "cell_type": "markdown",
   "id": "e2a2ecc4",
   "metadata": {},
   "source": [
    "---> **np.linespace (*start, end, spacing*)** *to create the array with perfect gap .. with given start and end*"
   ]
  },
  {
   "cell_type": "code",
   "execution_count": 20,
   "id": "0098069b",
   "metadata": {},
   "outputs": [
    {
     "data": {
      "text/plain": [
       "array([ 1.        ,  1.47368421,  1.94736842,  2.42105263,  2.89473684,\n",
       "        3.36842105,  3.84210526,  4.31578947,  4.78947368,  5.26315789,\n",
       "        5.73684211,  6.21052632,  6.68421053,  7.15789474,  7.63157895,\n",
       "        8.10526316,  8.57894737,  9.05263158,  9.52631579, 10.        ])"
      ]
     },
     "execution_count": 20,
     "metadata": {},
     "output_type": "execute_result"
    }
   ],
   "source": [
    "lspace  = np.linspace (1, 10, 20)\n",
    "lspace"
   ]
  },
  {
   "cell_type": "code",
   "execution_count": 21,
   "id": "7d4e9c17",
   "metadata": {
    "scrolled": true
   },
   "outputs": [
    {
     "name": "stdout",
     "output_type": "stream",
     "text": [
      "float64\n",
      "(20,)\n"
     ]
    }
   ],
   "source": [
    "lspace\n",
    "print (lspace.dtype)\n",
    "print (lspace.shape)"
   ]
  },
  {
   "cell_type": "markdown",
   "id": "4e7ccfe3",
   "metadata": {},
   "source": [
    "---> **np.empty(axisX, axisY, ..)** *it creates the array with some dummy values*"
   ]
  },
  {
   "cell_type": "code",
   "execution_count": 22,
   "id": "97c52347",
   "metadata": {},
   "outputs": [],
   "source": [
    "emp = np.empty ((4, 5))"
   ]
  },
  {
   "cell_type": "code",
   "execution_count": 23,
   "id": "ee143c82",
   "metadata": {},
   "outputs": [
    {
     "data": {
      "text/plain": [
       "array([[ 1.        ,  1.47368421,  1.94736842,  2.42105263,  2.89473684],\n",
       "       [ 3.36842105,  3.84210526,  4.31578947,  4.78947368,  5.26315789],\n",
       "       [ 5.73684211,  6.21052632,  6.68421053,  7.15789474,  7.63157895],\n",
       "       [ 8.10526316,  8.57894737,  9.05263158,  9.52631579, 10.        ]])"
      ]
     },
     "execution_count": 23,
     "metadata": {},
     "output_type": "execute_result"
    }
   ],
   "source": [
    "emp "
   ]
  },
  {
   "cell_type": "code",
   "execution_count": 24,
   "id": "8c3bf345",
   "metadata": {},
   "outputs": [
    {
     "data": {
      "text/plain": [
       "numpy.ndarray"
      ]
     },
     "execution_count": 24,
     "metadata": {},
     "output_type": "execute_result"
    }
   ],
   "source": [
    "type (emp)"
   ]
  },
  {
   "cell_type": "code",
   "execution_count": 25,
   "id": "aafcb50d",
   "metadata": {},
   "outputs": [
    {
     "data": {
      "text/plain": [
       "dtype('float64')"
      ]
     },
     "execution_count": 25,
     "metadata": {},
     "output_type": "execute_result"
    }
   ],
   "source": [
    "emp.dtype"
   ]
  },
  {
   "cell_type": "markdown",
   "id": "284d9cc3",
   "metadata": {},
   "source": [
    "---> **np.empty_like(array)** *creates the empty array like **array** and has its ***shape*** which values can be replaced later* "
   ]
  },
  {
   "cell_type": "code",
   "execution_count": 26,
   "id": "92f7a49c",
   "metadata": {},
   "outputs": [
    {
     "name": "stdout",
     "output_type": "stream",
     "text": [
      "[[1 2]\n",
      " [3 4]\n",
      " [5 6]\n",
      " [7 8]]\n",
      "(4, 2)\n"
     ]
    }
   ],
   "source": [
    "empl = np.empty_like(ran)  # will take the shape of ran array \n",
    "print (ran)\n",
    "print (empl.shape)"
   ]
  },
  {
   "cell_type": "markdown",
   "id": "12a00dae",
   "metadata": {},
   "source": [
    "---> **np.identity(value)** *-> creates the identity matrix of order value*"
   ]
  },
  {
   "cell_type": "code",
   "execution_count": 27,
   "id": "914fcbb9",
   "metadata": {},
   "outputs": [
    {
     "data": {
      "text/plain": [
       "array([[1., 0., 0., 0., 0., 0.],\n",
       "       [0., 1., 0., 0., 0., 0.],\n",
       "       [0., 0., 1., 0., 0., 0.],\n",
       "       [0., 0., 0., 1., 0., 0.],\n",
       "       [0., 0., 0., 0., 1., 0.],\n",
       "       [0., 0., 0., 0., 0., 1.]])"
      ]
     },
     "execution_count": 27,
     "metadata": {},
     "output_type": "execute_result"
    }
   ],
   "source": [
    "ide = np.identity(6)\n",
    "ide"
   ]
  },
  {
   "cell_type": "code",
   "execution_count": 28,
   "id": "7db78849",
   "metadata": {},
   "outputs": [
    {
     "name": "stdout",
     "output_type": "stream",
     "text": [
      "[1. 0. 0. 0. 0. 0. 0. 1. 0. 0. 0. 0. 0. 0. 1. 0. 0. 0. 0. 0. 0. 1. 0. 0.\n",
      " 0. 0. 0. 0. 1. 0. 0. 0. 0. 0. 0. 1.]\n",
      "(36,)\n"
     ]
    }
   ],
   "source": [
    "ide = ide.ravel()\n",
    "print (ide)\n",
    "print (ide.shape)"
   ]
  },
  {
   "cell_type": "code",
   "execution_count": 29,
   "id": "c2fdf557",
   "metadata": {},
   "outputs": [
    {
     "data": {
      "text/plain": [
       "array([[0, 1, 2],\n",
       "       [3, 4, 5],\n",
       "       [6, 7, 8]])"
      ]
     },
     "execution_count": 29,
     "metadata": {},
     "output_type": "execute_result"
    }
   ],
   "source": [
    "pract = np.arange(0, 9)\n",
    "pract = pract.reshape (3, 3)\n",
    "pract"
   ]
  },
  {
   "cell_type": "markdown",
   "id": "d3da5ee7",
   "metadata": {},
   "source": [
    "*--->   axis = 0, y-axis summation in every colomn .... axis = 1, x-axis summation in every row*"
   ]
  },
  {
   "cell_type": "code",
   "execution_count": 30,
   "id": "354390e5",
   "metadata": {},
   "outputs": [
    {
     "data": {
      "text/plain": [
       "array([ 9, 12, 15])"
      ]
     },
     "execution_count": 30,
     "metadata": {},
     "output_type": "execute_result"
    }
   ],
   "source": [
    "pract.sum (axis = 0)"
   ]
  },
  {
   "cell_type": "code",
   "execution_count": 31,
   "id": "d814b42f",
   "metadata": {},
   "outputs": [
    {
     "data": {
      "text/plain": [
       "array([ 3, 12, 21])"
      ]
     },
     "execution_count": 31,
     "metadata": {},
     "output_type": "execute_result"
    }
   ],
   "source": [
    "pract.sum (axis = 1)"
   ]
  },
  {
   "cell_type": "markdown",
   "id": "f49245d2",
   "metadata": {},
   "source": [
    "**---> transpose** *of a matrix*"
   ]
  },
  {
   "cell_type": "code",
   "execution_count": 32,
   "id": "72cd6999",
   "metadata": {},
   "outputs": [
    {
     "data": {
      "text/plain": [
       "array([[0, 3, 6],\n",
       "       [1, 4, 7],\n",
       "       [2, 5, 8]])"
      ]
     },
     "execution_count": 32,
     "metadata": {},
     "output_type": "execute_result"
    }
   ],
   "source": [
    "pract.T"
   ]
  },
  {
   "cell_type": "code",
   "execution_count": 33,
   "id": "2175e3d7",
   "metadata": {},
   "outputs": [
    {
     "data": {
      "text/plain": [
       "<numpy.flatiter at 0x1e50ce4ce50>"
      ]
     },
     "execution_count": 33,
     "metadata": {},
     "output_type": "execute_result"
    }
   ],
   "source": [
    "pract.flat"
   ]
  },
  {
   "cell_type": "code",
   "execution_count": 34,
   "id": "995504f8",
   "metadata": {},
   "outputs": [
    {
     "name": "stdout",
     "output_type": "stream",
     "text": [
      "[0 1 2]\n",
      "[3 4 5]\n",
      "[6 7 8]\n"
     ]
    }
   ],
   "source": [
    "for item in pract:      # itreating example \n",
    "    print (item)"
   ]
  },
  {
   "cell_type": "code",
   "execution_count": 35,
   "id": "89ac0d14",
   "metadata": {},
   "outputs": [
    {
     "data": {
      "text/plain": [
       "2"
      ]
     },
     "execution_count": 35,
     "metadata": {},
     "output_type": "execute_result"
    }
   ],
   "source": [
    "pract.ndim   # states the dimensions of array\n"
   ]
  },
  {
   "cell_type": "markdown",
   "id": "ce389868",
   "metadata": {},
   "source": [
    "***---> functions in numpy***"
   ]
  },
  {
   "cell_type": "code",
   "execution_count": 36,
   "id": "153ba2f9",
   "metadata": {},
   "outputs": [
    {
     "data": {
      "text/plain": [
       "array([[12,  3,  6],\n",
       "       [ 1,  4,  7],\n",
       "       [ 2,  5,  2]])"
      ]
     },
     "execution_count": 36,
     "metadata": {},
     "output_type": "execute_result"
    }
   ],
   "source": [
    "pract = pract.T\n",
    "pract[0, 0] = 12\n",
    "pract[2, 2] = 2\n",
    "pract"
   ]
  },
  {
   "cell_type": "code",
   "execution_count": 37,
   "id": "fb60ae96",
   "metadata": {},
   "outputs": [
    {
     "data": {
      "text/plain": [
       "3"
      ]
     },
     "execution_count": 37,
     "metadata": {},
     "output_type": "execute_result"
    }
   ],
   "source": [
    "pract.argmin()       # returns the index of minimum value "
   ]
  },
  {
   "cell_type": "code",
   "execution_count": 38,
   "id": "85c6c74f",
   "metadata": {},
   "outputs": [
    {
     "data": {
      "text/plain": [
       "0"
      ]
     },
     "execution_count": 38,
     "metadata": {},
     "output_type": "execute_result"
    }
   ],
   "source": [
    "pract.argmax()        # returns the index of maximum value "
   ]
  },
  {
   "cell_type": "code",
   "execution_count": 39,
   "id": "e27a34eb",
   "metadata": {},
   "outputs": [
    {
     "data": {
      "text/plain": [
       "array([1, 0, 2], dtype=int64)"
      ]
     },
     "execution_count": 39,
     "metadata": {},
     "output_type": "execute_result"
    }
   ],
   "source": [
    "pract.argmin(axis = 0)      # returns the index of the minimum value in y axis of eaxh row"
   ]
  },
  {
   "cell_type": "code",
   "execution_count": 40,
   "id": "1f653eee",
   "metadata": {},
   "outputs": [
    {
     "data": {
      "text/plain": [
       "array([0, 2, 1], dtype=int64)"
      ]
     },
     "execution_count": 40,
     "metadata": {},
     "output_type": "execute_result"
    }
   ],
   "source": [
    "pract.argmax(axis = 0)      # returns the index of the maximum value in y axis of eaxh row"
   ]
  },
  {
   "cell_type": "code",
   "execution_count": null,
   "id": "c793e424",
   "metadata": {},
   "outputs": [],
   "source": []
  },
  {
   "cell_type": "code",
   "execution_count": 41,
   "id": "dbed538e",
   "metadata": {},
   "outputs": [
    {
     "data": {
      "text/plain": [
       "array([9, 1, 2, 3, 4, 7, 6, 7, 4])"
      ]
     },
     "execution_count": 41,
     "metadata": {},
     "output_type": "execute_result"
    }
   ],
   "source": [
    "temp = np.arange (9) # returns the index array \n",
    "temp[0] = 9 \n",
    "temp[5] = 7\n",
    "temp[8] = 4\n",
    "temp"
   ]
  },
  {
   "cell_type": "code",
   "execution_count": 42,
   "id": "a09a3112",
   "metadata": {},
   "outputs": [
    {
     "name": "stdout",
     "output_type": "stream",
     "text": [
      "[9 1 2 3 4 7 6 7 4]\n",
      "[1 2 3 4 8 6 5 7 0]\n"
     ]
    }
   ],
   "source": [
    "print (temp)\n",
    "print (temp.argsort())    # returns the index array of sorted aray"
   ]
  },
  {
   "cell_type": "code",
   "execution_count": 43,
   "id": "5d6b7989",
   "metadata": {},
   "outputs": [],
   "source": [
    "ar1 = np.arange(9).reshape (3, 3)\n",
    "ar2 = ar1.T "
   ]
  },
  {
   "cell_type": "code",
   "execution_count": 44,
   "id": "66128c84",
   "metadata": {},
   "outputs": [
    {
     "data": {
      "text/plain": [
       "array([[0, 1, 2],\n",
       "       [3, 4, 5],\n",
       "       [6, 7, 8]])"
      ]
     },
     "execution_count": 44,
     "metadata": {},
     "output_type": "execute_result"
    }
   ],
   "source": [
    "ar1"
   ]
  },
  {
   "cell_type": "code",
   "execution_count": 45,
   "id": "cf7d83ed",
   "metadata": {},
   "outputs": [
    {
     "data": {
      "text/plain": [
       "array([[0, 3, 6],\n",
       "       [1, 4, 7],\n",
       "       [2, 5, 8]])"
      ]
     },
     "execution_count": 45,
     "metadata": {},
     "output_type": "execute_result"
    }
   ],
   "source": [
    "ar2"
   ]
  },
  {
   "cell_type": "code",
   "execution_count": 46,
   "id": "46bb5eac",
   "metadata": {},
   "outputs": [
    {
     "name": "stdout",
     "output_type": "stream",
     "text": [
      "[[ 0  4  8]\n",
      " [ 4  8 12]\n",
      " [ 8 12 16]]\n"
     ]
    }
   ],
   "source": [
    "print (ar1 + ar2)        # adddition of matrix"
   ]
  },
  {
   "cell_type": "code",
   "execution_count": 47,
   "id": "4db994f9",
   "metadata": {},
   "outputs": [
    {
     "name": "stdout",
     "output_type": "stream",
     "text": [
      "[[ 0  3 12]\n",
      " [ 3 16 35]\n",
      " [12 35 64]]\n"
     ]
    }
   ],
   "source": [
    "print (ar1 * ar2)     # element to element multiplication "
   ]
  },
  {
   "cell_type": "code",
   "execution_count": 48,
   "id": "999a20ca",
   "metadata": {},
   "outputs": [
    {
     "data": {
      "text/plain": [
       "array([[0.        , 1.        , 1.41421356],\n",
       "       [1.73205081, 2.        , 2.23606798],\n",
       "       [2.44948974, 2.64575131, 2.82842712]])"
      ]
     },
     "execution_count": 48,
     "metadata": {},
     "output_type": "execute_result"
    }
   ],
   "source": [
    "np.sqrt (ar1)       # returns the square-root of array"
   ]
  },
  {
   "cell_type": "code",
   "execution_count": 49,
   "id": "d699c553",
   "metadata": {},
   "outputs": [
    {
     "data": {
      "text/plain": [
       "array([[0, 1, 2],\n",
       "       [3, 4, 5],\n",
       "       [6, 7, 8]])"
      ]
     },
     "execution_count": 49,
     "metadata": {},
     "output_type": "execute_result"
    }
   ],
   "source": [
    "ar1"
   ]
  },
  {
   "cell_type": "code",
   "execution_count": 50,
   "id": "f16b198a",
   "metadata": {},
   "outputs": [
    {
     "data": {
      "text/plain": [
       "36"
      ]
     },
     "execution_count": 50,
     "metadata": {},
     "output_type": "execute_result"
    }
   ],
   "source": [
    "ar1.sum()        # returns sum of all elements"
   ]
  },
  {
   "cell_type": "code",
   "execution_count": 51,
   "id": "56fa9faf",
   "metadata": {},
   "outputs": [
    {
     "data": {
      "text/plain": [
       "8"
      ]
     },
     "execution_count": 51,
     "metadata": {},
     "output_type": "execute_result"
    }
   ],
   "source": [
    "ar1.max()    # returns the minimum element in array \n",
    "    "
   ]
  },
  {
   "cell_type": "code",
   "execution_count": 52,
   "id": "70df00e7",
   "metadata": {},
   "outputs": [
    {
     "data": {
      "text/plain": [
       "0"
      ]
     },
     "execution_count": 52,
     "metadata": {},
     "output_type": "execute_result"
    }
   ],
   "source": [
    "ar1.min()     # returns the maximum element in array "
   ]
  },
  {
   "cell_type": "code",
   "execution_count": 53,
   "id": "25791538",
   "metadata": {},
   "outputs": [
    {
     "data": {
      "text/plain": [
       "(array([0, 1, 2], dtype=int64), array([2, 2, 2], dtype=int64))"
      ]
     },
     "execution_count": 53,
     "metadata": {},
     "output_type": "execute_result"
    }
   ],
   "source": [
    " np.where (ar2 > 5) "
   ]
  },
  {
   "cell_type": "code",
   "execution_count": 54,
   "id": "b08a0781",
   "metadata": {},
   "outputs": [
    {
     "data": {
      "text/plain": [
       "array([[0, 3, 6],\n",
       "       [1, 4, 7],\n",
       "       [2, 5, 8]])"
      ]
     },
     "execution_count": 54,
     "metadata": {},
     "output_type": "execute_result"
    }
   ],
   "source": [
    "ar2"
   ]
  },
  {
   "cell_type": "code",
   "execution_count": 55,
   "id": "404c11ae",
   "metadata": {},
   "outputs": [
    {
     "data": {
      "text/plain": [
       "(array([0, 1, 2], dtype=int64), array([2, 2, 2], dtype=int64))"
      ]
     },
     "execution_count": 55,
     "metadata": {},
     "output_type": "execute_result"
    }
   ],
   "source": [
    " np.where (ar2 > 5) # it gives the values in tuples .. 1st tuple have x-index and 2nd has y-index (in case: (0, 2), (1, 2), (2, 2))"
   ]
  },
  {
   "cell_type": "code",
   "execution_count": 56,
   "id": "9c960dd4",
   "metadata": {},
   "outputs": [
    {
     "data": {
      "text/plain": [
       "(array([1, 2, 2, 2], dtype=int64), array([2, 0, 1, 2], dtype=int64))"
      ]
     },
     "execution_count": 56,
     "metadata": {},
     "output_type": "execute_result"
    }
   ],
   "source": [
    "np.where (ar1 > 4)"
   ]
  },
  {
   "cell_type": "code",
   "execution_count": 57,
   "id": "6ea5a553",
   "metadata": {},
   "outputs": [
    {
     "data": {
      "text/plain": [
       "8"
      ]
     },
     "execution_count": 57,
     "metadata": {},
     "output_type": "execute_result"
    }
   ],
   "source": [
    "np.count_nonzero (ar1)   # returns the no. of non zero elements in arr"
   ]
  },
  {
   "cell_type": "code",
   "execution_count": 58,
   "id": "d71164e3",
   "metadata": {},
   "outputs": [
    {
     "data": {
      "text/plain": [
       "(array([0, 0, 1, 1, 1, 2, 2, 2], dtype=int64),\n",
       " array([1, 2, 0, 1, 2, 0, 1, 2], dtype=int64))"
      ]
     },
     "execution_count": 58,
     "metadata": {},
     "output_type": "execute_result"
    }
   ],
   "source": [
    "np.nonzero (ar2)     # return the non-zero elements index in 2 tuples                     "
   ]
  },
  {
   "cell_type": "code",
   "execution_count": 59,
   "id": "18b8f29e",
   "metadata": {},
   "outputs": [],
   "source": [
    "import sys"
   ]
  },
  {
   "cell_type": "code",
   "execution_count": 60,
   "id": "9d244b60",
   "metadata": {},
   "outputs": [],
   "source": [
    "py_arr = [1, 2, 3, 4]\n",
    "np_arr = np.array (py_arr)"
   ]
  },
  {
   "cell_type": "code",
   "execution_count": 61,
   "id": "6e44256d",
   "metadata": {},
   "outputs": [
    {
     "data": {
      "text/plain": [
       "112"
      ]
     },
     "execution_count": 61,
     "metadata": {},
     "output_type": "execute_result"
    }
   ],
   "source": [
    "sys.getsizeof(1) * len (py_arr)"
   ]
  },
  {
   "cell_type": "code",
   "execution_count": 62,
   "id": "5bf98241",
   "metadata": {},
   "outputs": [
    {
     "data": {
      "text/plain": [
       "16"
      ]
     },
     "execution_count": 62,
     "metadata": {},
     "output_type": "execute_result"
    }
   ],
   "source": [
    "np_arr.itemsize * np_arr.size    # size of one item (itemsize attribute) * size of array (4)"
   ]
  },
  {
   "cell_type": "markdown",
   "id": "609cf909",
   "metadata": {},
   "source": [
    "***NOTE the difference of size .. numpy array takes less space then simple python arrays.***"
   ]
  },
  {
   "cell_type": "markdown",
   "id": "b35f0363",
   "metadata": {},
   "source": [
    "# THANK YOU"
   ]
  }
 ],
 "metadata": {
  "kernelspec": {
   "display_name": "Python 3 (ipykernel)",
   "language": "python",
   "name": "python3"
  },
  "language_info": {
   "codemirror_mode": {
    "name": "ipython",
    "version": 3
   },
   "file_extension": ".py",
   "mimetype": "text/x-python",
   "name": "python",
   "nbconvert_exporter": "python",
   "pygments_lexer": "ipython3",
   "version": "3.10.5"
  }
 },
 "nbformat": 4,
 "nbformat_minor": 5
}
