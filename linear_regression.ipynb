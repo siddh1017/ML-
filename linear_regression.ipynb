{
 "cells": [
  {
   "cell_type": "markdown",
   "metadata": {},
   "source": [
    "* **Name : Shah Siddh Tejaskumar**\n",
    "* **Reg.No. : 20BCE1937**\n",
    "* *Lab 2*"
   ]
  },
  {
   "cell_type": "markdown",
   "metadata": {},
   "source": [
    "# Linear Regression\n"
   ]
  },
  {
   "cell_type": "code",
   "execution_count": 1,
   "metadata": {},
   "outputs": [],
   "source": [
    "import numpy as np\n",
    "import pandas as pd\n",
    "import matplotlib.pyplot as plt\n",
    "%matplotlib inline\n"
   ]
  },
  {
   "cell_type": "code",
   "execution_count": 25,
   "metadata": {},
   "outputs": [
    {
     "data": {
      "text/plain": [
       "array([1, 2, 3, 4, 5])"
      ]
     },
     "execution_count": 25,
     "metadata": {},
     "output_type": "execute_result"
    }
   ],
   "source": [
    "x = np.arange(1, 6)\n",
    "x"
   ]
  },
  {
   "cell_type": "code",
   "execution_count": 26,
   "metadata": {},
   "outputs": [
    {
     "data": {
      "text/plain": [
       "array([2, 1, 3, 6, 9])"
      ]
     },
     "execution_count": 26,
     "metadata": {},
     "output_type": "execute_result"
    }
   ],
   "source": [
    "y = np.array([2,1,3,6,9])\n",
    "y"
   ]
  },
  {
   "cell_type": "code",
   "execution_count": 20,
   "metadata": {},
   "outputs": [],
   "source": [
    "mean_x = np.mean (x)\n",
    "mean_y = np.mean (y)\n",
    "n = len (x) "
   ]
  },
  {
   "cell_type": "markdown",
   "metadata": {},
   "source": [
    "* **Calculating the m and c value**"
   ]
  },
  {
   "cell_type": "code",
   "execution_count": 21,
   "metadata": {},
   "outputs": [
    {
     "name": "stdout",
     "output_type": "stream",
     "text": [
      "1.9\n",
      "-1.4999999999999991\n"
     ]
    }
   ],
   "source": [
    "numerator = 0      # sum (x - mean(x))*(y - mean(y))\n",
    "dinominator = 0     # sum (x - mean(x))**2\n",
    "\n",
    "for i in range (n):\n",
    "    numerator +=  (x[i] - mean_x)*(y[i] - mean_y)\n",
    "    dinominator += (x[i] - mean_x)**2\n",
    "\n",
    "b1 = numerator/dinominator\n",
    "b0 = mean_y - (b1*mean_x) \n",
    "print (b1)\n",
    "print (b0)"
   ]
  },
  {
   "cell_type": "markdown",
   "metadata": {},
   "source": [
    "* **plotting the regression line**\n",
    " "
   ]
  },
  {
   "cell_type": "code",
   "execution_count": 23,
   "metadata": {},
   "outputs": [
    {
     "data": {
      "text/plain": [
       "[<matplotlib.lines.Line2D at 0x24c6c717310>]"
      ]
     },
     "execution_count": 23,
     "metadata": {},
     "output_type": "execute_result"
    },
    {
     "data": {
      "image/png": "[encoded data removed]",
      "text/plain": [
       "<Figure size 432x288 with 1 Axes>"
      ]
     },
     "metadata": {
      "needs_background": "light"
     },
     "output_type": "display_data"
    }
   ],
   "source": [
    "plt.scatter (x, y, label = 'regression on line')\n",
    "plt.xlabel ('x-axis')\n",
    "plt.ylabel ('y-axis')\n",
    "\n",
    "x = np.linspace (np.min(x), np.max(x), 1000)\n",
    "y = b0 + b1*x\n",
    "plt.plot (x, y)"
   ]
  },
  {
   "cell_type": "code",
   "execution_count": 22,
   "metadata": {},
   "outputs": [
    {
     "data": {
      "text/plain": [
       "0.8434579439252337"
      ]
     },
     "execution_count": 22,
     "metadata": {},
     "output_type": "execute_result"
    }
   ],
   "source": [
    "ss_t = 0\n",
    "ss_r = 0\n",
    "x = np.arange (1, 6)\n",
    "\n",
    "for i in range(n):\n",
    "    y_pred = b0 + b1*x[i]\n",
    "    ss_t += (y[i] - mean_y)**2\n",
    "    ss_r += (y[i] - y_pred)**2\n",
    "r2 = 1 - (ss_r/ss_t)\n",
    "r2"
   ]
  },
  {
   "cell_type": "markdown",
   "metadata": {},
   "source": [
    "# using scikit learn module"
   ]
  },
  {
   "cell_type": "code",
   "execution_count": 32,
   "metadata": {},
   "outputs": [
    {
     "data": {
      "text/plain": [
       "array([0.4, 2.3, 4.2, 6.1, 8. ])"
      ]
     },
     "execution_count": 32,
     "metadata": {},
     "output_type": "execute_result"
    }
   ],
   "source": [
    "from sklearn.linear_model import LinearRegression\n",
    "\n",
    "x = x.reshape ((n ,1))\n",
    "\n",
    "regressor = LinearRegression()\n",
    "reg = regressor.fit(x, y)\n",
    "y_pred = reg.predict(x)\n",
    "y_pred\n"
   ]
  },
  {
   "cell_type": "markdown",
   "metadata": {},
   "source": [
    "* **calculating the r2 value**"
   ]
  },
  {
   "cell_type": "code",
   "execution_count": 33,
   "metadata": {},
   "outputs": [
    {
     "data": {
      "text/plain": [
       "0.8434579439252337"
      ]
     },
     "execution_count": 33,
     "metadata": {},
     "output_type": "execute_result"
    }
   ],
   "source": [
    "from sklearn.metrics import mean_squared_error\n",
    "r2_value = reg.score (x, y)\n",
    "r2_value"
   ]
  },
  {
   "cell_type": "markdown",
   "metadata": {},
   "source": [
    "* **Question 2**\n"
   ]
  },
  {
   "cell_type": "code",
   "execution_count": 44,
   "metadata": {},
   "outputs": [],
   "source": [
    "x = np.array ([32,44,39,40,39])\n",
    "y = np.array ([88, 79, 70, 82, 78])"
   ]
  },
  {
   "cell_type": "markdown",
   "metadata": {},
   "source": [
    "* **finding the m and c**"
   ]
  },
  {
   "cell_type": "code",
   "execution_count": 45,
   "metadata": {},
   "outputs": [
    {
     "name": "stdout",
     "output_type": "stream",
     "text": [
      "-0.7967914438502675\n",
      "110.31550802139039\n"
     ]
    }
   ],
   "source": [
    "mean_x = np.mean (x)\n",
    "mean_y = np.mean (y)\n",
    "n = len (x) \n",
    "\n",
    "numerator = 0      # sum (x - mean(x))*(y - mean(y))\n",
    "dinominator = 0     # sum (x - mean(x))**2\n",
    "\n",
    "for i in range (n):\n",
    "    numerator +=  (x[i] - mean_x)*(y[i] - mean_y)\n",
    "    dinominator += (x[i] - mean_x)**2\n",
    "\n",
    "b1 = numerator/dinominator\n",
    "b0 = mean_y - (b1*mean_x) \n",
    "print (b1)\n",
    "print (b0)"
   ]
  },
  {
   "cell_type": "markdown",
   "metadata": {},
   "source": [
    "* **finding the r2 value for accuracy**"
   ]
  },
  {
   "cell_type": "code",
   "execution_count": 40,
   "metadata": {},
   "outputs": [
    {
     "data": {
      "text/plain": [
       "0.2773876755460042"
      ]
     },
     "execution_count": 40,
     "metadata": {},
     "output_type": "execute_result"
    }
   ],
   "source": [
    "ss_t = 0\n",
    "ss_r = 0\n",
    "\n",
    "for i in range(n):\n",
    "    y_pred = b0 + b1*x[i]\n",
    "    ss_t += (y[i] - mean_y)**2\n",
    "    ss_r += (y[i] - y_pred)**2\n",
    "r2 = 1 - (ss_r/ss_t)\n",
    "r2"
   ]
  },
  {
   "cell_type": "code",
   "execution_count": 41,
   "metadata": {},
   "outputs": [
    {
     "data": {
      "image/png": "[encoded data removed]",
      "text/plain": [
       "<Figure size 432x288 with 1 Axes>"
      ]
     },
     "metadata": {
      "needs_background": "light"
     },
     "output_type": "display_data"
    }
   ],
   "source": [
    "plt.scatter (x, y, label = 'regression on line')\n",
    "plt.xlabel ('x-axis')\n",
    "plt.ylabel ('y-axis')\n",
    "\n",
    "x = np.linspace (np.min(x), np.max(x), 1000)\n",
    "y = b0 + b1*x\n",
    "plt.scatter (x, y, label = 'regression on line')\n",
    "plt.xlabel ('x-axis')\n",
    "plt.ylabel ('y-axis')\n",
    "\n",
    "x = np.linspace (np.min(x), np.max(x), 1000)\n",
    "y = b0 + b1*x"
   ]
  },
  {
   "cell_type": "markdown",
   "metadata": {},
   "source": [
    "***with scikit learn module***"
   ]
  },
  {
   "cell_type": "code",
   "execution_count": 46,
   "metadata": {},
   "outputs": [
    {
     "data": {
      "text/plain": [
       "array([84.81818182, 75.25668449, 79.24064171, 78.44385027, 79.24064171])"
      ]
     },
     "execution_count": 46,
     "metadata": {},
     "output_type": "execute_result"
    }
   ],
   "source": [
    "from sklearn.linear_model import LinearRegression\n",
    "\n",
    "x = x.reshape ((n ,1))\n",
    "\n",
    "regressor = LinearRegression()\n",
    "reg = regressor.fit(x, y)\n",
    "y_pred = reg.predict(x)\n",
    "y_pred\n"
   ]
  },
  {
   "cell_type": "markdown",
   "metadata": {},
   "source": [
    "* **r2 value when sklearn is used**"
   ]
  },
  {
   "cell_type": "code",
   "execution_count": 47,
   "metadata": {},
   "outputs": [
    {
     "data": {
      "text/plain": [
       "0.2773876755460044"
      ]
     },
     "execution_count": 47,
     "metadata": {},
     "output_type": "execute_result"
    }
   ],
   "source": [
    "from sklearn.metrics import mean_squared_error\n",
    "r2_value = reg.score (x, y)\n",
    "r2_value"
   ]
  },
  {
   "cell_type": "code",
   "execution_count": null,
   "metadata": {},
   "outputs": [],
   "source": []
  }
 ],
 "metadata": {
  "kernelspec": {
   "display_name": "Python 3.10.5 64-bit",
   "language": "python",
   "name": "python3"
  },
  "language_info": {
   "codemirror_mode": {
    "name": "ipython",
    "version": 3
   },
   "file_extension": ".py",
   "mimetype": "text/x-python",
   "name": "python",
   "nbconvert_exporter": "python",
   "pygments_lexer": "ipython3",
   "version": "3.10.5"
  },
  "orig_nbformat": 4,
  "vscode": {
   "interpreter": {
    "hash": "63963b3f4c440940f0b94a3100916033a226cb4f45979123153792d60aa56d6a"
   }
  }
 },
 "nbformat": 4,
 "nbformat_minor": 2
}
